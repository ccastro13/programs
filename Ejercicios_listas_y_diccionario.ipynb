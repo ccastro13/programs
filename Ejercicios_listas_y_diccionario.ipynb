{
  "nbformat": 4,
  "nbformat_minor": 0,
  "metadata": {
    "colab": {
      "provenance": [],
      "collapsed_sections": [],
      "include_colab_link": true
    },
    "kernelspec": {
      "name": "python3",
      "display_name": "Python 3"
    },
    "language_info": {
      "name": "python"
    }
  },
  "cells": [
    {
      "cell_type": "markdown",
      "metadata": {
        "id": "view-in-github",
        "colab_type": "text"
      },
      "source": [
        "<a href=\"https://colab.research.google.com/github/ccastro13/programs/blob/main/Ejercicios_listas_y_diccionario.ipynb\" target=\"_parent\"><img src=\"https://colab.research.google.com/assets/colab-badge.svg\" alt=\"Open In Colab\"/></a>"
      ]
    },
    {
      "cell_type": "code",
      "execution_count": null,
      "metadata": {
        "colab": {
          "base_uri": "https://localhost:8080/"
        },
        "id": "EoH3JTiQXCMH",
        "outputId": "ec010df4-d076-4d08-aed6-f7f709901d18"
      },
      "outputs": [
        {
          "output_type": "stream",
          "name": "stdout",
          "text": [
            "indique cuantas materias cursa6\n",
            "Introduce las materias: mate\n",
            "Introduce las materias: español\n",
            "Introduce las materias: fisica\n",
            "Introduce las materias: calculo\n",
            "Introduce las materias: etica\n",
            "Introduce las materias: religion\n",
            "Las materias que curso son: ['calculo', 'español', 'etica', 'fisica', 'mate', 'religion']\n"
          ]
        }
      ],
      "source": [
        "cant= (int(input (\"indique cuantas materias cursa\")))\n",
        "\n",
        "\n",
        "Materias=[] \n",
        "for i in range(cant):\n",
        "    Materias.append(input(\"Introduce las materias: \"))\n",
        "Materias.sort()\n",
        "print(\"Las materias que curso son: \" + str(Materias))"
      ]
    },
    {
      "cell_type": "code",
      "source": [],
      "metadata": {
        "id": "YWJPfiHQZi2v"
      },
      "execution_count": null,
      "outputs": []
    },
    {
      "cell_type": "code",
      "source": [],
      "metadata": {
        "id": "LYNGZXGeU0FW"
      },
      "execution_count": null,
      "outputs": []
    },
    {
      "cell_type": "code",
      "source": [
        "\n",
        "cant= (int(input (\"indique cuantas materias cursa\")))\n",
        "\n",
        "\n",
        "Materias=[]\n",
        "Notas= [] \n",
        "for i in range(cant):\n",
        "    Materias.append(input(\"Introduce las materias: \"))\n",
        "   \n",
        "for Materias in Materias:\n",
        " nota = input(\"que nota desea sacar en \" + Materias +\"?\")\n",
        " Notas.append(nota)"
      ],
      "metadata": {
        "colab": {
          "base_uri": "https://localhost:8080/"
        },
        "id": "Bn9aHxsrXee0",
        "outputId": "9fedb17f-a9e1-4254-bd55-15a922a8e9a0"
      },
      "execution_count": null,
      "outputs": [
        {
          "name": "stdout",
          "output_type": "stream",
          "text": [
            "indique cuantas materias cursa2\n",
            "Introduce las materias: mate\n",
            "Introduce las materias: ingles\n",
            "que nota desea sacar en mate?4\n",
            "que nota desea sacar en ingles?2\n"
          ]
        }
      ]
    },
    {
      "cell_type": "code",
      "source": [
        "\n",
        "cant= (int(input (\"indique cuantas materias cursa \")))\n",
        "\n",
        "\n",
        "Materias=[]\n",
        "Notas= [] \n",
        "for i in range(cant):\n",
        "    Materias.append(input(\"Introduce las materias: \"))\n",
        "   \n",
        "for Materia in Materias:\n",
        " nota = (float(input(\"que nota saco en \" + Materia +\"? \")))\n",
        " Notas.append(nota)\n",
        " \n",
        "aprobadas=[]\n",
        "reprobadas=[]\n",
        "\n",
        "for i in range(len(Materias)):\n",
        "  if Notas[i] < 3:\n",
        "    reprobadas.append(Materias[i])\n",
        "  else:\n",
        "    aprobadas.append(Materias[i])\n",
        "\n",
        "print(\"materias aprobadas\", aprobadas)\n",
        "print(\"materias reprobadas\", reprobadas)\n",
        "     "
      ],
      "metadata": {
        "colab": {
          "base_uri": "https://localhost:8080/"
        },
        "id": "p3NIBgancTJn",
        "outputId": "5913b771-2fb8-4555-da29-327ada8703b5"
      },
      "execution_count": null,
      "outputs": [
        {
          "output_type": "stream",
          "name": "stdout",
          "text": [
            "indique cuantas materias cursa 3\n",
            "Introduce las materias: qq\n",
            "Introduce las materias: ww\n",
            "Introduce las materias: ee\n",
            "que nota saco en qq? 2\n",
            "que nota saco en ww? 3\n",
            "que nota saco en ee? 4\n",
            "materias aprobadas ['ww', 'ee']\n",
            "materias reprobadas ['qq']\n"
          ]
        }
      ]
    },
    {
      "cell_type": "code",
      "source": [],
      "metadata": {
        "id": "Rl8rl501aCY4"
      },
      "execution_count": null,
      "outputs": []
    },
    {
      "cell_type": "code",
      "source": [
        "frase = input(\"Introduce una palabra: \")\n",
        "reversed_word = frase\n",
        "frase = list(frase)\n",
        "reversed_word = list(reversed_word)\n",
        "reversed_word.reverse()\n",
        "if frase == reversed_word:\n",
        "    print(\"Es un palíndromo\")\n",
        "else:\n",
        "    print(\"No es un palíndromo\")"
      ],
      "metadata": {
        "colab": {
          "base_uri": "https://localhost:8080/"
        },
        "id": "UMGDKEO4nG8l",
        "outputId": "05407512-5722-4087-cb01-9d56ddeb0811"
      },
      "execution_count": null,
      "outputs": [
        {
          "output_type": "stream",
          "name": "stdout",
          "text": [
            "Introduce una palabra: sdf\n",
            "No es un palíndromo\n"
          ]
        }
      ]
    },
    {
      "cell_type": "code",
      "source": [
        "import numpy \n",
        "v1 = int(input(\"ingrese el primer numero del vector uno \"))\n",
        "v2 = [v1]\n",
        "v3 = int(input(\"ingrese el segundo numero del vector uno \"))\n",
        "v4 = [v3]\n",
        "v5 = int(input(\"ingrese el tercer numero del vector uno \"))\n",
        "v6 = [v5]\n",
        "\n",
        "l1 = v2+v4+v6\n",
        "\n",
        "v7 = int(input(\"ingrese el primer numero del vector uno \"))\n",
        "v8 = [v7]\n",
        "v9 = int(input(\"ingrese el segundo numero del vector uno \"))\n",
        "v10 = [v9]\n",
        "v11 = int(input(\"ingrese el tercer numero del vector uno \"))\n",
        "v12 = [v11]\n",
        "l2 = v7+v9+v11\n",
        "\n",
        "\n",
        "\n"
      ],
      "metadata": {
        "id": "9_ZeJ1w0tMoh",
        "colab": {
          "base_uri": "https://localhost:8080/"
        },
        "outputId": "bec8755d-c5c9-4838-869e-113498f46d93"
      },
      "execution_count": null,
      "outputs": [
        {
          "name": "stdout",
          "output_type": "stream",
          "text": [
            "ingrese el primer numero del vector uno 2\n",
            "ingrese el segundo numero del vector uno 1\n",
            "ingrese el tercer numero del vector uno 1\n",
            "ingrese el primer numero del vector uno 2\n",
            "ingrese el segundo numero del vector uno 1\n",
            "ingrese el tercer numero del vector uno 1\n"
          ]
        }
      ]
    },
    {
      "cell_type": "code",
      "source": [
        "import numpy as np\n",
        "v1str= input(\"ingrese los valores del vector 1 se parados por comas\")\n",
        "v1=v1str.split(',')\n",
        "v1 = [float(elementos)for elementos in v1]\n",
        "\n",
        "v2str= input(\"ingrese los valores del vector 2 se parados por comas\")\n",
        "v2=v2str.split(',')\n",
        "v2 = [float(elementos)for elementos in v2]\n",
        "\n",
        "resultado = np.dot(v1,v2)\n",
        "print(resultado)\n",
        "\n",
        "\n"
      ],
      "metadata": {
        "colab": {
          "base_uri": "https://localhost:8080/"
        },
        "id": "rrx1b_QBPu88",
        "outputId": "37c01285-8e22-412f-fb6f-e9ce5c9561f4"
      },
      "execution_count": null,
      "outputs": [
        {
          "output_type": "stream",
          "name": "stdout",
          "text": [
            "ingrese los valores del vector 1 se parados por comas2,1\n",
            "ingrese los valores del vector 2 se parados por comas2,1\n",
            "5.0\n"
          ]
        }
      ]
    },
    {
      "cell_type": "code",
      "source": [
        "import numpy as np\n",
        "lista = []\n",
        "while (True) :\n",
        "  numero= input (\"ingrese  un  valor o fin si desea finalisar\")\n",
        "  if numero.lower()== \"fin\":\n",
        "    break\n",
        "  else:\n",
        "    lista.append(float(numero))\n",
        "print(lista)\n",
        "Media = np.mean(lista)\n",
        "Desviacion = np.std(lista)\n",
        "print(Media)\n",
        "print(Desviacion)\n",
        "\n",
        "\n"
      ],
      "metadata": {
        "colab": {
          "base_uri": "https://localhost:8080/"
        },
        "id": "w0avANtgaFZA",
        "outputId": "6a813a85-7a75-4994-ad9d-19209787d233"
      },
      "execution_count": null,
      "outputs": [
        {
          "output_type": "stream",
          "name": "stdout",
          "text": [
            "ingrese  un  valor o fin si desea finalisar5\n",
            "ingrese  un  valor o fin si desea finalisar4\n",
            "ingrese  un  valor o fin si desea finalisar5\n",
            "ingrese  un  valor o fin si desea finalisar8\n",
            "ingrese  un  valor o fin si desea finalisar9\n",
            "ingrese  un  valor o fin si desea finalisarfin\n",
            "[5.0, 4.0, 5.0, 8.0, 9.0]\n",
            "6.2\n",
            "1.9390719429665317\n"
          ]
        }
      ]
    },
    {
      "cell_type": "code",
      "source": [
        "Saldo = int(input(\"Ingrese el monto a pagar\"))\n",
        "Ingreso = int (input(\"ingrese el monto con el que va a pagar \"))\n",
        "Cambio = (Saldo - Ingreso)\n",
        "print (Cambio)\n",
        "Denominacion = [100000,50000,20000,10000,5000,2000,1000,500,200,100,50]\n",
        "\n",
        "\n",
        "for denominacion in Denominacion:\n",
        "  cantidad= Cambio//denominacion\n",
        "  cambio=cambio%denominacion\n",
        "  if cantidad>0:\n",
        "    print(cantidad,\"de \",denominacion)\n",
        "\n",
        "\n",
        "\n",
        "\n"
      ],
      "metadata": {
        "colab": {
          "base_uri": "https://localhost:8080/"
        },
        "id": "xECgsRpXfCuv",
        "outputId": "ad0a4d43-8b7f-4fef-80d8-eb7369a926d3"
      },
      "execution_count": 10,
      "outputs": [
        {
          "output_type": "stream",
          "name": "stdout",
          "text": [
            "Ingrese el monto a pagar60000\n",
            "ingrese el monto con el que va a pagar 50000\n",
            "10000\n",
            "1 de  10000\n",
            "2 de  5000\n",
            "5 de  2000\n",
            "10 de  1000\n",
            "20 de  500\n",
            "50 de  200\n",
            "100 de  100\n",
            "200 de  50\n"
          ]
        }
      ]
    },
    {
      "cell_type": "code",
      "source": [
        "Divisas = {\"Euro\": \"€\",\"Dollar\":\"$\", \"Yen\": \"¥\"}\n",
        "n =  input(\"Digite  la divisa \")\n",
        "if n.title () in Divisas :\n",
        "  print (Divisas [n.title()])\n",
        "else:\n",
        " print (\"La divisa  digitada  no esta en el dicionario \")  \n",
        " \n",
        "\n"
      ],
      "metadata": {
        "colab": {
          "base_uri": "https://localhost:8080/"
        },
        "id": "zpEJ43TbU3zt",
        "outputId": "4c4e7dfa-218c-4193-e13c-d4542951e686"
      },
      "execution_count": 21,
      "outputs": [
        {
          "output_type": "stream",
          "name": "stdout",
          "text": [
            "Digite  la divisa Yen\n",
            "¥\n"
          ]
        }
      ]
    },
    {
      "cell_type": "code",
      "source": [
        "info = {}\n",
        "n =  (input(\"Digite su nombre \"))\n",
        "n1 =  (input(\"Digite su edad \"))\n",
        "n2 =  (input(\"Digite su direccion \"))\n",
        "n3 =  (input(\"Digite su Telefono  \"))\n",
        "\n",
        "Nombre  = n\n",
        "info = [Nombre]\n",
        "\n",
        "Edad = n1\n",
        "info = [Edad]\n",
        "\n",
        "Direccion = n2\n",
        "info = [Direccion]\n",
        "\n",
        "Telefono = n3\n",
        "info = [Telefono]\n",
        "\n",
        "print(\"\\n\", Nombre ,\"tiene\", Edad,\" años,  \"vive en \" ,Direccion ,\" y su número de teléfono es\" ,Telefono)\n",
        "\n",
        " "
      ],
      "metadata": {
        "colab": {
          "base_uri": "https://localhost:8080/"
        },
        "id": "ldouyOP5VjoY",
        "outputId": "8fbde2eb-87bb-4673-cdc2-1b0cf7d61511"
      },
      "execution_count": null,
      "outputs": [
        {
          "output_type": "stream",
          "name": "stdout",
          "text": [
            "Digite su nombre david\n",
            "Digite su edad 21\n",
            "Digite su direccion calle 40 as sur\n",
            "Digite su Telefono  312546985\n",
            "\n",
            " david tiene 21  años  vive en  calle 40 as sur  y su número de teléfono es 312546985\n"
          ]
        }
      ]
    },
    {
      "cell_type": "code",
      "source": [
        "frutas = {'Platano':1.35, 'Manzana':0.80, 'Pera':0.85, 'Naranja':0.70}\n",
        "fruta = input('¿Qué fruta quieres? ').title()\n",
        "kg = float(input('¿Cuántos kilos? '))\n",
        "if fruta in frutas:\n",
        "    print(kg, 'kilos de', fruta, 'valen', frutas[fruta]*kg )\n",
        "else: \n",
        "    print(\"Lo siento, la fruta\", fruta, \"no está disponible.\")"
      ],
      "metadata": {
        "colab": {
          "base_uri": "https://localhost:8080/"
        },
        "id": "kTMdAj4OZWPI",
        "outputId": "581e058e-c2bb-4dba-e296-e069e325265d"
      },
      "execution_count": 26,
      "outputs": [
        {
          "output_type": "stream",
          "name": "stdout",
          "text": [
            "¿Qué fruta quieres? Manzana\n",
            "¿Cuántos kilos? 5\n",
            "5.0 kilos de Manzana valen 4.0\n"
          ]
        }
      ]
    },
    {
      "cell_type": "code",
      "source": [
        "cesta = {}\n",
        "continuar = True\n",
        "while continuar:\n",
        "    item = input('Introduce un artículo: ')\n",
        "    precio = float(input('Introduce el precio de ' + item + ': '))\n",
        "    cesta[item] = precio\n",
        "    continuar = input('¿Quieres añadir artículos a la lista (Si/No)? ') == \"Si\"\n",
        "coste = 0\n",
        "print('Lista de la compra')\n",
        "for item, precio in cesta.items():\n",
        "    print(item, '\\t', precio)\n",
        "    coste += precio\n",
        "print('Coste total: ', coste)"
      ],
      "metadata": {
        "id": "2KT-M2xzdiT0",
        "colab": {
          "base_uri": "https://localhost:8080/"
        },
        "outputId": "2b1fd842-fd11-4c6b-bbbc-868f0b070129"
      },
      "execution_count": 27,
      "outputs": [
        {
          "output_type": "stream",
          "name": "stdout",
          "text": [
            "Introduce un artículo: galletas\n",
            "Introduce el precio de galletas: 4000\n",
            "¿Quieres añadir artículos a la lista (Si/No)? Si\n",
            "Introduce un artículo: Queso\n",
            "Introduce el precio de Queso: 2000\n",
            "¿Quieres añadir artículos a la lista (Si/No)? si\n",
            "Lista de la compra\n",
            "galletas \t 4000.0\n",
            "Queso \t 2000.0\n",
            "Coste total:  6000.0\n"
          ]
        }
      ]
    },
    {
      "cell_type": "code",
      "source": [
        "clientes = {}\n",
        "opcion = ''\n",
        "while opcion != '6':\n",
        "    if opcion == '1':\n",
        "        nif = input('Introduce NIF del cliente: ')\n",
        "        nombre = input('Introduce el nombre del cliente: ')\n",
        "        direccion = input('Introduce la dirección del cliente: ')\n",
        "        telefono = input('Introduce el teléfono del cliente: ')\n",
        "        email = input('Introduce el correo electrónico del cliente: ')\n",
        "        vip = input('¿Es un cliente preferente (S/N)? ')\n",
        "        cliente = {'nombre':nombre,'dirección':direccion, 'teléfono':telefono, 'email':email, 'preferente':vip=='S'}\n",
        "        clientes[nif] = cliente\n",
        "    if opcion == '2':\n",
        "        nif = input('Introduce NIF del cliente: ')\n",
        "        if nif in clientes:\n",
        "            del clientes[nif]\n",
        "        else:\n",
        "            print('No existe el cliente con el nif', nif)\n",
        "    if opcion == '3':\n",
        "        nif = input('Introduce NIF del cliente: ')\n",
        "        if nif in clientes:\n",
        "            print('NIF:', nif)\n",
        "            for clave, valor in clientes[nif].items():\n",
        "                print(clave.title() + ':', valor)\n",
        "        else:\n",
        "            print('No existe el cliente con el nif', nif)\n",
        "    if opcion == '4':\n",
        "        print('Lista de clientes')\n",
        "        for clave, valor in clientes.items():\n",
        "            print(clave, valor['nombre'])\n",
        "    if opcion == '5':\n",
        "        print('Lista de clientes preferentes')\n",
        "        for clave, valor in clientes.items():\n",
        "            if valor['preferente']:\n",
        "                print(clave, valor['nombre'])\n",
        "    opcion = input('Menú de opciones\\n(1) Añadir cliente\\n(2) Eliminar cliente\\n(3) Mostrar cliente\\n(4) Listar clientes\\n(5) Listar clientes preferentes\\n(6) Terminar\\nElige una opción:')\n"
      ],
      "metadata": {
        "id": "Ck7-PBqukdSL"
      },
      "execution_count": null,
      "outputs": []
    }
  ]
}