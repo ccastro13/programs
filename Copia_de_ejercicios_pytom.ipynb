{
  "nbformat": 4,
  "nbformat_minor": 0,
  "metadata": {
    "colab": {
      "provenance": [],
      "authorship_tag": "ABX9TyMuG7UzlW66CnOcR+jMmz1h",
      "include_colab_link": true
    },
    "kernelspec": {
      "name": "python3",
      "display_name": "Python 3"
    },
    "language_info": {
      "name": "python"
    }
  },
  "cells": [
    {
      "cell_type": "markdown",
      "metadata": {
        "id": "view-in-github",
        "colab_type": "text"
      },
      "source": [
        "<a href=\"https://colab.research.google.com/github/ccastro13/programs/blob/main/Copia_de_ejercicios_pytom.ipynb\" target=\"_parent\"><img src=\"https://colab.research.google.com/assets/colab-badge.svg\" alt=\"Open In Colab\"/></a>"
      ]
    },
    {
      "cell_type": "code",
      "execution_count": null,
      "metadata": {
        "colab": {
          "base_uri": "https://localhost:8080/"
        },
        "id": "qcKbeLSnG7c5",
        "outputId": "f36b26d6-a0c5-4529-c6b3-ec76123559cd"
      },
      "outputs": [
        {
          "output_type": "stream",
          "name": "stdout",
          "text": [
            "hello word\n",
            "ingrese su nombre:pepe\n",
            "hello pepe\n",
            "ingrese la altura:1.60\n",
            "el peso ideal es 61.44\n"
          ]
        }
      ],
      "source": [
        "print (\"hello word\")\n",
        "\n",
        "\n",
        "name=input(\"ingrese su nombre:\")\n",
        "print (\"hello\",name)\n",
        "\n",
        "\n",
        "imc=24\n",
        "altura=float(input(\"ingrese la altura:\"))\n",
        "altura2=altura**2\n",
        "peso=altura2*imc\n",
        "\n",
        "print (\"el peso ideal es\",round(peso,2))\n",
        "\n",
        "\n",
        "\n",
        "\n",
        "\n"
      ]
    },
    {
      "cell_type": "code",
      "source": [
        "\n",
        "inter1=int(input(\"ingrese el intervalo menor\"))\n",
        "inter2=int(input(\"ingrese el intervalo mayor\"))\n",
        "\n",
        "if(inter1>inter2):\n",
        "  print (\"!!!!ERROR¡¡¡ en consola\")\n",
        "else:\n",
        "   for intervalo in range(inter1,inter2,2):\n",
        "    \n",
        "      print (intervalo)"
      ],
      "metadata": {
        "colab": {
          "base_uri": "https://localhost:8080/"
        },
        "id": "WUwm44HOMZ9D",
        "outputId": "09c5b841-1b8b-4388-f507-c3f235847d1e"
      },
      "execution_count": null,
      "outputs": [
        {
          "output_type": "stream",
          "name": "stdout",
          "text": [
            "ingrese el intervalo menor10\n",
            "ingrese el intervalo mayor30\n",
            "10\n",
            "12\n",
            "14\n",
            "16\n",
            "18\n",
            "20\n",
            "22\n",
            "24\n",
            "26\n",
            "28\n"
          ]
        }
      ]
    },
    {
      "cell_type": "code",
      "source": [
        "from datetime import date\n",
        "import calendar\n",
        "curr_date = date.today()\n",
        "print(calendar.day_name[curr_date.weekday()])\n",
        "print(curr_date.weekday())\n",
        "\n",
        "day=(curr_date.weekday())\n",
        "\n",
        "if dia == 3 or 1:\n",
        "    print(\"hay clase\")\n",
        "else: \n",
        "    print(\"no hay clase\")\n"
      ],
      "metadata": {
        "colab": {
          "base_uri": "https://localhost:8080/"
        },
        "id": "A3IwQJlVVaGk",
        "outputId": "ab608a03-a9a9-4bf1-ed82-1a510387df55"
      },
      "execution_count": 32,
      "outputs": [
        {
          "output_type": "stream",
          "name": "stdout",
          "text": [
            "Thursday\n",
            "3\n",
            "hay clase\n"
          ]
        }
      ]
    },
    {
      "cell_type": "code",
      "source": [
        "\n",
        "\n",
        "key = \"laclave\"\n",
        "password = input(\"Introduce la contraseña: \")\n",
        "\n",
        "\n",
        "if key == password:\n",
        "    print(\"La contaseña coincide\")\n",
        "else:\n",
        "  while True:\n",
        "      entrada=input(\"contraseña incorrecta ingrese nuevamente o ingrese la palabra 'exit': \")\n",
        "      if entrada == \"laclave\":\n",
        "          print(\"La contaseña coincide\")\n",
        "          break\n",
        "      elif (entrada==\"exit\"):\n",
        "             break\n"
      ],
      "metadata": {
        "colab": {
          "base_uri": "https://localhost:8080/"
        },
        "id": "2G18RIWveM1v",
        "outputId": "c12a2f9f-1335-460c-b891-35088e294493"
      },
      "execution_count": 95,
      "outputs": [
        {
          "name": "stdout",
          "output_type": "stream",
          "text": [
            "Introduce la contraseña: jbf\n",
            "contraseña incorrecta ingrese nuevamente o ingrese la palabra 'exit': exit\n"
          ]
        }
      ]
    }
  ]
}